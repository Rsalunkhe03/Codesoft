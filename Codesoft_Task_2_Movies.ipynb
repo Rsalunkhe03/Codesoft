{
 "cells": [
  {
   "cell_type": "markdown",
   "id": "21bb967b",
   "metadata": {},
   "source": [
    "# Code Soft Internship\n",
    "\n",
    "## Intern - Rutuja Babasaheb Salunkhe\n",
    "\n",
    "## Domain - Data Science\n",
    "\n",
    "## Task - 2\n",
    "\n",
    "## Project - Movie Rating Prediction using Python\n",
    "\n",
    "## Importing Libraries"
   ]
  },
  {
   "cell_type": "code",
   "execution_count": 1,
   "id": "1546a718",
   "metadata": {},
   "outputs": [],
   "source": [
    "import pandas as pd\n",
    "import numpy as np\n",
    "import seaborn as sns\n",
    "import matplotlib.pyplot as plt\n",
    "import math"
   ]
  },
  {
   "cell_type": "code",
   "execution_count": 3,
   "id": "991c3705",
   "metadata": {},
   "outputs": [
    {
     "name": "stdout",
     "output_type": "stream",
     "text": [
      "<class 'pandas.core.frame.DataFrame'>\n",
      "RangeIndex: 15509 entries, 0 to 15508\n",
      "Data columns (total 10 columns):\n",
      " #   Column    Non-Null Count  Dtype  \n",
      "---  ------    --------------  -----  \n",
      " 0   Name      15509 non-null  object \n",
      " 1   Year      14981 non-null  object \n",
      " 2   Duration  7240 non-null   object \n",
      " 3   Genre     13632 non-null  object \n",
      " 4   Rating    7919 non-null   float64\n",
      " 5   Votes     7920 non-null   object \n",
      " 6   Director  14984 non-null  object \n",
      " 7   Actor 1   13892 non-null  object \n",
      " 8   Actor 2   13125 non-null  object \n",
      " 9   Actor 3   12365 non-null  object \n",
      "dtypes: float64(1), object(9)\n",
      "memory usage: 1.2+ MB\n"
     ]
    }
   ],
   "source": [
    "df=pd.read_csv('IMDb Movies India.csv', encoding='latin1')\n",
    "df.info()"
   ]
  },
  {
   "cell_type": "code",
   "execution_count": 4,
   "id": "fa5cde86",
   "metadata": {},
   "outputs": [
    {
     "data": {
      "text/plain": [
       "Name           0\n",
       "Year         528\n",
       "Duration    8269\n",
       "Genre       1877\n",
       "Rating      7590\n",
       "Votes       7589\n",
       "Director     525\n",
       "Actor 1     1617\n",
       "Actor 2     2384\n",
       "Actor 3     3144\n",
       "dtype: int64"
      ]
     },
     "execution_count": 4,
     "metadata": {},
     "output_type": "execute_result"
    }
   ],
   "source": [
    "df.isnull().sum()"
   ]
  },
  {
   "cell_type": "code",
   "execution_count": 5,
   "id": "2e542c89",
   "metadata": {},
   "outputs": [
    {
     "data": {
      "text/html": [
       "<div>\n",
       "<style scoped>\n",
       "    .dataframe tbody tr th:only-of-type {\n",
       "        vertical-align: middle;\n",
       "    }\n",
       "\n",
       "    .dataframe tbody tr th {\n",
       "        vertical-align: top;\n",
       "    }\n",
       "\n",
       "    .dataframe thead th {\n",
       "        text-align: right;\n",
       "    }\n",
       "</style>\n",
       "<table border=\"1\" class=\"dataframe\">\n",
       "  <thead>\n",
       "    <tr style=\"text-align: right;\">\n",
       "      <th></th>\n",
       "      <th>Name</th>\n",
       "      <th>Year</th>\n",
       "      <th>Duration</th>\n",
       "      <th>Genre</th>\n",
       "      <th>Rating</th>\n",
       "      <th>Votes</th>\n",
       "      <th>Director</th>\n",
       "      <th>Actor 1</th>\n",
       "      <th>Actor 2</th>\n",
       "      <th>Actor 3</th>\n",
       "    </tr>\n",
       "  </thead>\n",
       "  <tbody>\n",
       "    <tr>\n",
       "      <th>0</th>\n",
       "      <td></td>\n",
       "      <td>NaN</td>\n",
       "      <td>NaN</td>\n",
       "      <td>Drama</td>\n",
       "      <td>NaN</td>\n",
       "      <td>NaN</td>\n",
       "      <td>J.S. Randhawa</td>\n",
       "      <td>Manmauji</td>\n",
       "      <td>Birbal</td>\n",
       "      <td>Rajendra Bhatia</td>\n",
       "    </tr>\n",
       "    <tr>\n",
       "      <th>1</th>\n",
       "      <td>#Gadhvi (He thought he was Gandhi)</td>\n",
       "      <td>(2019)</td>\n",
       "      <td>109 min</td>\n",
       "      <td>Drama</td>\n",
       "      <td>7.0</td>\n",
       "      <td>8</td>\n",
       "      <td>Gaurav Bakshi</td>\n",
       "      <td>Rasika Dugal</td>\n",
       "      <td>Vivek Ghamande</td>\n",
       "      <td>Arvind Jangid</td>\n",
       "    </tr>\n",
       "    <tr>\n",
       "      <th>2</th>\n",
       "      <td>#Homecoming</td>\n",
       "      <td>(2021)</td>\n",
       "      <td>90 min</td>\n",
       "      <td>Drama, Musical</td>\n",
       "      <td>NaN</td>\n",
       "      <td>NaN</td>\n",
       "      <td>Soumyajit Majumdar</td>\n",
       "      <td>Sayani Gupta</td>\n",
       "      <td>Plabita Borthakur</td>\n",
       "      <td>Roy Angana</td>\n",
       "    </tr>\n",
       "    <tr>\n",
       "      <th>3</th>\n",
       "      <td>#Yaaram</td>\n",
       "      <td>(2019)</td>\n",
       "      <td>110 min</td>\n",
       "      <td>Comedy, Romance</td>\n",
       "      <td>4.4</td>\n",
       "      <td>35</td>\n",
       "      <td>Ovais Khan</td>\n",
       "      <td>Prateik</td>\n",
       "      <td>Ishita Raj</td>\n",
       "      <td>Siddhant Kapoor</td>\n",
       "    </tr>\n",
       "    <tr>\n",
       "      <th>4</th>\n",
       "      <td>...And Once Again</td>\n",
       "      <td>(2010)</td>\n",
       "      <td>105 min</td>\n",
       "      <td>Drama</td>\n",
       "      <td>NaN</td>\n",
       "      <td>NaN</td>\n",
       "      <td>Amol Palekar</td>\n",
       "      <td>Rajat Kapoor</td>\n",
       "      <td>Rituparna Sengupta</td>\n",
       "      <td>Antara Mali</td>\n",
       "    </tr>\n",
       "    <tr>\n",
       "      <th>5</th>\n",
       "      <td>...Aur Pyaar Ho Gaya</td>\n",
       "      <td>(1997)</td>\n",
       "      <td>147 min</td>\n",
       "      <td>Comedy, Drama, Musical</td>\n",
       "      <td>4.7</td>\n",
       "      <td>827</td>\n",
       "      <td>Rahul Rawail</td>\n",
       "      <td>Bobby Deol</td>\n",
       "      <td>Aishwarya Rai Bachchan</td>\n",
       "      <td>Shammi Kapoor</td>\n",
       "    </tr>\n",
       "    <tr>\n",
       "      <th>6</th>\n",
       "      <td>...Yahaan</td>\n",
       "      <td>(2005)</td>\n",
       "      <td>142 min</td>\n",
       "      <td>Drama, Romance, War</td>\n",
       "      <td>7.4</td>\n",
       "      <td>1,086</td>\n",
       "      <td>Shoojit Sircar</td>\n",
       "      <td>Jimmy Sheirgill</td>\n",
       "      <td>Minissha Lamba</td>\n",
       "      <td>Yashpal Sharma</td>\n",
       "    </tr>\n",
       "    <tr>\n",
       "      <th>7</th>\n",
       "      <td>.in for Motion</td>\n",
       "      <td>(2008)</td>\n",
       "      <td>59 min</td>\n",
       "      <td>Documentary</td>\n",
       "      <td>NaN</td>\n",
       "      <td>NaN</td>\n",
       "      <td>Anirban Datta</td>\n",
       "      <td>NaN</td>\n",
       "      <td>NaN</td>\n",
       "      <td>NaN</td>\n",
       "    </tr>\n",
       "    <tr>\n",
       "      <th>8</th>\n",
       "      <td>?: A Question Mark</td>\n",
       "      <td>(2012)</td>\n",
       "      <td>82 min</td>\n",
       "      <td>Horror, Mystery, Thriller</td>\n",
       "      <td>5.6</td>\n",
       "      <td>326</td>\n",
       "      <td>Allyson Patel</td>\n",
       "      <td>Yash Dave</td>\n",
       "      <td>Muntazir Ahmad</td>\n",
       "      <td>Kiran Bhatia</td>\n",
       "    </tr>\n",
       "    <tr>\n",
       "      <th>9</th>\n",
       "      <td>@Andheri</td>\n",
       "      <td>(2014)</td>\n",
       "      <td>116 min</td>\n",
       "      <td>Action, Crime, Thriller</td>\n",
       "      <td>4.0</td>\n",
       "      <td>11</td>\n",
       "      <td>Biju Bhaskar Nair</td>\n",
       "      <td>Augustine</td>\n",
       "      <td>Fathima Babu</td>\n",
       "      <td>Byon</td>\n",
       "    </tr>\n",
       "  </tbody>\n",
       "</table>\n",
       "</div>"
      ],
      "text/plain": [
       "                                 Name    Year Duration  \\\n",
       "0                                         NaN      NaN   \n",
       "1  #Gadhvi (He thought he was Gandhi)  (2019)  109 min   \n",
       "2                         #Homecoming  (2021)   90 min   \n",
       "3                             #Yaaram  (2019)  110 min   \n",
       "4                   ...And Once Again  (2010)  105 min   \n",
       "5                ...Aur Pyaar Ho Gaya  (1997)  147 min   \n",
       "6                           ...Yahaan  (2005)  142 min   \n",
       "7                      .in for Motion  (2008)   59 min   \n",
       "8                  ?: A Question Mark  (2012)   82 min   \n",
       "9                            @Andheri  (2014)  116 min   \n",
       "\n",
       "                       Genre  Rating  Votes            Director  \\\n",
       "0                      Drama     NaN    NaN       J.S. Randhawa   \n",
       "1                      Drama     7.0      8       Gaurav Bakshi   \n",
       "2             Drama, Musical     NaN    NaN  Soumyajit Majumdar   \n",
       "3            Comedy, Romance     4.4     35          Ovais Khan   \n",
       "4                      Drama     NaN    NaN        Amol Palekar   \n",
       "5     Comedy, Drama, Musical     4.7    827        Rahul Rawail   \n",
       "6        Drama, Romance, War     7.4  1,086      Shoojit Sircar   \n",
       "7                Documentary     NaN    NaN       Anirban Datta   \n",
       "8  Horror, Mystery, Thriller     5.6    326       Allyson Patel   \n",
       "9    Action, Crime, Thriller     4.0     11   Biju Bhaskar Nair   \n",
       "\n",
       "           Actor 1                 Actor 2          Actor 3  \n",
       "0         Manmauji                  Birbal  Rajendra Bhatia  \n",
       "1     Rasika Dugal          Vivek Ghamande    Arvind Jangid  \n",
       "2     Sayani Gupta       Plabita Borthakur       Roy Angana  \n",
       "3          Prateik              Ishita Raj  Siddhant Kapoor  \n",
       "4     Rajat Kapoor      Rituparna Sengupta      Antara Mali  \n",
       "5       Bobby Deol  Aishwarya Rai Bachchan    Shammi Kapoor  \n",
       "6  Jimmy Sheirgill          Minissha Lamba   Yashpal Sharma  \n",
       "7              NaN                     NaN              NaN  \n",
       "8        Yash Dave          Muntazir Ahmad     Kiran Bhatia  \n",
       "9        Augustine            Fathima Babu             Byon  "
      ]
     },
     "execution_count": 5,
     "metadata": {},
     "output_type": "execute_result"
    }
   ],
   "source": [
    "df.head(10)"
   ]
  },
  {
   "cell_type": "markdown",
   "id": "dc57158e",
   "metadata": {},
   "source": [
    "## Data Cleaning"
   ]
  },
  {
   "cell_type": "code",
   "execution_count": 6,
   "id": "1d055bea",
   "metadata": {},
   "outputs": [],
   "source": [
    "df.dropna(subset=df.columns[1:9],how='all',inplace=True)"
   ]
  },
  {
   "cell_type": "code",
   "execution_count": 7,
   "id": "f1b4ed5e",
   "metadata": {},
   "outputs": [],
   "source": [
    "df.dropna(subset=['Name','Year'],how='all',inplace=True)"
   ]
  },
  {
   "cell_type": "code",
   "execution_count": 8,
   "id": "a53f8c94",
   "metadata": {},
   "outputs": [],
   "source": [
    "df.drop_duplicates(['Name','Year'],keep='first',inplace=True)"
   ]
  },
  {
   "cell_type": "code",
   "execution_count": 9,
   "id": "9a6e7c2a",
   "metadata": {},
   "outputs": [
    {
     "name": "stdout",
     "output_type": "stream",
     "text": [
      "<class 'pandas.core.frame.DataFrame'>\n",
      "Int64Index: 15477 entries, 0 to 15508\n",
      "Data columns (total 10 columns):\n",
      " #   Column    Non-Null Count  Dtype  \n",
      "---  ------    --------------  -----  \n",
      " 0   Name      15477 non-null  object \n",
      " 1   Year      14958 non-null  object \n",
      " 2   Duration  7235 non-null   object \n",
      " 3   Genre     13614 non-null  object \n",
      " 4   Rating    7915 non-null   float64\n",
      " 5   Votes     7916 non-null   object \n",
      " 6   Director  14962 non-null  object \n",
      " 7   Actor 1   13875 non-null  object \n",
      " 8   Actor 2   13110 non-null  object \n",
      " 9   Actor 3   12355 non-null  object \n",
      "dtypes: float64(1), object(9)\n",
      "memory usage: 1.3+ MB\n"
     ]
    }
   ],
   "source": [
    "df.info()"
   ]
  },
  {
   "cell_type": "code",
   "execution_count": 10,
   "id": "adb5e458",
   "metadata": {},
   "outputs": [],
   "source": [
    "df.dropna(subset=['Year'],inplace=True)"
   ]
  },
  {
   "cell_type": "code",
   "execution_count": 11,
   "id": "7e9bd446",
   "metadata": {},
   "outputs": [],
   "source": [
    "df['Year']=df['Year'].str.extract(r'([0-9].{0,3})',expand=False)\n",
    "df['Duration']=df['Duration'].str.extract(r'([0-9]+)',expand=False)"
   ]
  },
  {
   "cell_type": "code",
   "execution_count": 12,
   "id": "257c4871",
   "metadata": {},
   "outputs": [],
   "source": [
    "def get_mode_with_default(x):\n",
    "    mode_result = x.mode()\n",
    "    if not mode_result.empty:\n",
    "        return mode_result[0]\n",
    "    else:\n",
    "        return 'unknown'  \n",
    "\n",
    "df['Actor 1']=df['Actor 1'].fillna(df.groupby('Year')['Actor 1'].transform(get_mode_with_default))\n",
    "df['Actor 2']=df['Actor 2'].fillna(df.groupby('Year')['Actor 2'].transform(get_mode_with_default))\n",
    "df['Actor 3']=df['Actor 3'].fillna(df.groupby('Year')['Actor 3'].transform(get_mode_with_default))"
   ]
  },
  {
   "cell_type": "code",
   "execution_count": 13,
   "id": "15043604",
   "metadata": {},
   "outputs": [],
   "source": [
    "df['Director']=df.groupby(['Year','Actor 1','Actor 2','Actor 3'])['Director'].transform(get_mode_with_default)"
   ]
  },
  {
   "cell_type": "code",
   "execution_count": 14,
   "id": "c609f31c",
   "metadata": {},
   "outputs": [],
   "source": [
    "df['Duration']=pd.to_numeric(df['Duration'])"
   ]
  },
  {
   "cell_type": "code",
   "execution_count": 15,
   "id": "36f714a0",
   "metadata": {},
   "outputs": [],
   "source": [
    "def get_mean_with_default(x):\n",
    "    mean_result = x.mean()\n",
    "    if not math.isnan(mean_result):        \n",
    "            return round(mean_result)\n",
    "    else:\n",
    "        return 0\n",
    "df['Duration']=df.groupby(['Year','Director','Actor 1','Actor 2','Actor 3'])['Duration'].transform(get_mean_with_default)"
   ]
  },
  {
   "cell_type": "code",
   "execution_count": 16,
   "id": "833dd8be",
   "metadata": {},
   "outputs": [],
   "source": [
    "df['Rating']=df.groupby(['Director','Actor 1'])['Rating'].transform(lambda x:x.mean())\n",
    "df['Rating']=df.groupby(['Director','Actor 2'])['Rating'].transform(lambda x:x.mean())\n",
    "df['Rating']=df.groupby(['Director','Actor 3'])['Rating'].transform(lambda x:x.mean())\n",
    "df['Rating']=df.groupby(['Year','Director'])['Rating'].transform(lambda x:x.mean())\n",
    "df['Rating']=df.groupby('Year')['Rating'].transform(lambda x:x.mean())\n",
    "df['Year']=pd.to_numeric(df['Year'])"
   ]
  },
  {
   "cell_type": "code",
   "execution_count": 17,
   "id": "1cff7a8b",
   "metadata": {},
   "outputs": [],
   "source": [
    "df['Votes']=df['Votes'].str.extract(r'([0-9]+)',expand=False)\n",
    "df['Votes']=pd.to_numeric(df['Votes'])"
   ]
  },
  {
   "cell_type": "code",
   "execution_count": 18,
   "id": "b2377890",
   "metadata": {},
   "outputs": [],
   "source": [
    "df['Votes']=df.groupby(['Year','Rating'])['Votes'].transform(lambda x:x.mean())"
   ]
  },
  {
   "cell_type": "code",
   "execution_count": 19,
   "id": "fc510037",
   "metadata": {},
   "outputs": [],
   "source": [
    "df['Votes']=df.groupby('Year')['Votes'].transform(lambda x:x.mean())"
   ]
  },
  {
   "cell_type": "code",
   "execution_count": 20,
   "id": "de880a57",
   "metadata": {},
   "outputs": [
    {
     "name": "stdout",
     "output_type": "stream",
     "text": [
      "<class 'pandas.core.frame.DataFrame'>\n",
      "Int64Index: 14958 entries, 1 to 15508\n",
      "Data columns (total 10 columns):\n",
      " #   Column    Non-Null Count  Dtype  \n",
      "---  ------    --------------  -----  \n",
      " 0   Name      14958 non-null  object \n",
      " 1   Year      14958 non-null  int64  \n",
      " 2   Duration  14958 non-null  int64  \n",
      " 3   Genre     13123 non-null  object \n",
      " 4   Rating    14947 non-null  float64\n",
      " 5   Votes     14908 non-null  float64\n",
      " 6   Director  14958 non-null  object \n",
      " 7   Actor 1   14958 non-null  object \n",
      " 8   Actor 2   14958 non-null  object \n",
      " 9   Actor 3   14958 non-null  object \n",
      "dtypes: float64(2), int64(2), object(6)\n",
      "memory usage: 1.3+ MB\n"
     ]
    }
   ],
   "source": [
    "df.info()"
   ]
  },
  {
   "cell_type": "markdown",
   "id": "27c61e45",
   "metadata": {},
   "source": [
    "## EDA"
   ]
  },
  {
   "cell_type": "code",
   "execution_count": 21,
   "id": "50da2003",
   "metadata": {},
   "outputs": [
    {
     "data": {
      "image/png": "[encoded data removed]",
      "text/plain": [
       "<Figure size 864x432 with 1 Axes>"
      ]
     },
     "metadata": {
      "needs_background": "light"
     },
     "output_type": "display_data"
    }
   ],
   "source": [
    "#Year with best rating\n",
    "rating_sum=df.groupby('Year')['Rating'].sum().reset_index()\n",
    "\n",
    "plt.figure(figsize=(12,6))\n",
    "sns.lineplot(x='Year',y='Rating',data=rating_sum)\n",
    "sns.scatterplot(x='Year',y='Rating',data=rating_sum,color='r')\n",
    "plt.yticks(np.arange(0,3000,400))\n",
    "plt.xticks(np.arange(1920,2025,5))\n",
    "plt.ylabel('Ratings')\n",
    "plt.xlabel('Years')\n",
    "plt.title('Ratings Per Years')\n",
    "plt.xticks(rotation=90)\n",
    "plt.grid(True)\n",
    "plt.show()"
   ]
  },
  {
   "cell_type": "code",
   "execution_count": 22,
   "id": "a9e9b18d",
   "metadata": {},
   "outputs": [
    {
     "data": {
      "image/png": "[encoded data removed]",
      "text/plain": [
       "<Figure size 1440x432 with 1 Axes>"
      ]
     },
     "metadata": {
      "needs_background": "light"
     },
     "output_type": "display_data"
    }
   ],
   "source": [
    "#Year with best average rating\n",
    "rating_avg=df.groupby('Year')['Rating'].mean().reset_index()\n",
    "\n",
    "plt.figure(figsize=(20,6))\n",
    "sns.lineplot(x='Year',y='Rating',data=rating_avg)\n",
    "sns.scatterplot(x='Year',y='Rating',data=rating_avg,color='r')\n",
    "plt.yticks(np.arange(4,8,0.5))\n",
    "plt.xticks(np.arange(1920,2025,5))\n",
    "plt.ylabel('Average Ratings')\n",
    "plt.xlabel('Years')\n",
    "plt.title('Average Ratings Per Years')\n",
    "plt.xticks(rotation=90)\n",
    "plt.grid(True)\n",
    "plt.show()\n"
   ]
  },
  {
   "cell_type": "code",
   "execution_count": 23,
   "id": "cb91eb4b",
   "metadata": {},
   "outputs": [
    {
     "data": {
      "image/png": "[encoded data removed]",
      "text/plain": [
       "<Figure size 432x288 with 1 Axes>"
      ]
     },
     "metadata": {
      "needs_background": "light"
     },
     "output_type": "display_data"
    }
   ],
   "source": [
    "#Top 20 Directors by Frequency of Movies\n",
    "top_20=df.groupby('Director')['Name'].count()[0:20]\n",
    "\n",
    "sns.barplot(x=top_20.index,y=top_20.values,data=df,palette='viridis')\n",
    "plt.xticks(rotation=90)\n",
    "plt.ylabel('Frequency Of Movies')\n",
    "plt.xlabel('Director')\n",
    "plt.show()"
   ]
  },
  {
   "cell_type": "code",
   "execution_count": 24,
   "id": "f15a836c",
   "metadata": {},
   "outputs": [
    {
     "name": "stdout",
     "output_type": "stream",
     "text": [
      "Correlation Of Duration And Rating is -0.07511162035794011\n"
     ]
    },
    {
     "data": {
      "image/png": "[encoded data removed]",
      "text/plain": [
       "<Figure size 576x432 with 1 Axes>"
      ]
     },
     "metadata": {
      "needs_background": "light"
     },
     "output_type": "display_data"
    }
   ],
   "source": [
    "#Does length of movie have any impact with the rating\n",
    "corr_leng_rat=df['Duration'].corr(df['Rating'])\n",
    "print(f\"Correlation Of Duration And Rating is {corr_leng_rat}\")\n",
    "#show there is no impact of duration on rating\n",
    "\n",
    "plt.figure(figsize=(8,6))\n",
    "sns.scatterplot(x='Duration',y='Rating',data=df)\n",
    "plt.xlabel('Duration')\n",
    "plt.ylabel('Rating')\n",
    "plt.title('Duration Vs Rating')\n",
    "plt.yticks(np.arange(4,8,0.5))\n",
    "plt.show()"
   ]
  },
  {
   "cell_type": "code",
   "execution_count": 25,
   "id": "33430f6f",
   "metadata": {},
   "outputs": [
    {
     "name": "stdout",
     "output_type": "stream",
     "text": [
      "Top 10 Movies Overall:\n"
     ]
    },
    {
     "data": {
      "text/html": [
       "<div>\n",
       "<style scoped>\n",
       "    .dataframe tbody tr th:only-of-type {\n",
       "        vertical-align: middle;\n",
       "    }\n",
       "\n",
       "    .dataframe tbody tr th {\n",
       "        vertical-align: top;\n",
       "    }\n",
       "\n",
       "    .dataframe thead th {\n",
       "        text-align: right;\n",
       "    }\n",
       "</style>\n",
       "<table border=\"1\" class=\"dataframe\">\n",
       "  <thead>\n",
       "    <tr style=\"text-align: right;\">\n",
       "      <th></th>\n",
       "      <th>Name</th>\n",
       "      <th>Year</th>\n",
       "      <th>Duration</th>\n",
       "      <th>Genre</th>\n",
       "      <th>Rating</th>\n",
       "      <th>Votes</th>\n",
       "      <th>Director</th>\n",
       "      <th>Actor 1</th>\n",
       "      <th>Actor 2</th>\n",
       "      <th>Actor 3</th>\n",
       "    </tr>\n",
       "  </thead>\n",
       "  <tbody>\n",
       "    <tr>\n",
       "      <th>0</th>\n",
       "      <td>Abhagin</td>\n",
       "      <td>1938</td>\n",
       "      <td>151</td>\n",
       "      <td>NaN</td>\n",
       "      <td>7.266085</td>\n",
       "      <td>9.555556</td>\n",
       "      <td>Prafulla Roy</td>\n",
       "      <td>Molina Devi</td>\n",
       "      <td>Prithviraj Kapoor</td>\n",
       "      <td>Vijay Kumar</td>\n",
       "    </tr>\n",
       "    <tr>\n",
       "      <th>1</th>\n",
       "      <td>Abhilasha</td>\n",
       "      <td>1938</td>\n",
       "      <td>134</td>\n",
       "      <td>NaN</td>\n",
       "      <td>7.266085</td>\n",
       "      <td>9.555556</td>\n",
       "      <td>Zia Sarhadi</td>\n",
       "      <td>Mahendra Thakore</td>\n",
       "      <td>M. Kumar</td>\n",
       "      <td>Bibbo</td>\n",
       "    </tr>\n",
       "    <tr>\n",
       "      <th>2</th>\n",
       "      <td>Adhikar</td>\n",
       "      <td>1938</td>\n",
       "      <td>132</td>\n",
       "      <td>NaN</td>\n",
       "      <td>7.266085</td>\n",
       "      <td>9.555556</td>\n",
       "      <td>P.C. Barua</td>\n",
       "      <td>P.C. Barua</td>\n",
       "      <td>Jamuna</td>\n",
       "      <td>Pahadi Sanyal</td>\n",
       "    </tr>\n",
       "    <tr>\n",
       "      <th>3</th>\n",
       "      <td>Baazigar</td>\n",
       "      <td>1938</td>\n",
       "      <td>152</td>\n",
       "      <td>NaN</td>\n",
       "      <td>7.266085</td>\n",
       "      <td>9.555556</td>\n",
       "      <td>Mohan Dayaram Bhavnani</td>\n",
       "      <td>K.L. Saigal</td>\n",
       "      <td>Ashok Kumar</td>\n",
       "      <td>Bibbo</td>\n",
       "    </tr>\n",
       "    <tr>\n",
       "      <th>4</th>\n",
       "      <td>Baghban</td>\n",
       "      <td>1938</td>\n",
       "      <td>159</td>\n",
       "      <td>Drama</td>\n",
       "      <td>7.266085</td>\n",
       "      <td>9.555556</td>\n",
       "      <td>Abdul Rashid Kardar</td>\n",
       "      <td>Bimla Kumari</td>\n",
       "      <td>B. Nandrekar</td>\n",
       "      <td>Sitara Devi</td>\n",
       "    </tr>\n",
       "    <tr>\n",
       "      <th>5</th>\n",
       "      <td>Bahadur Kisan</td>\n",
       "      <td>1938</td>\n",
       "      <td>0</td>\n",
       "      <td>NaN</td>\n",
       "      <td>7.266085</td>\n",
       "      <td>9.555556</td>\n",
       "      <td>Master Bhagwan</td>\n",
       "      <td>Chandrarao</td>\n",
       "      <td>Chandrarao</td>\n",
       "      <td>Hansa Wadkar</td>\n",
       "    </tr>\n",
       "    <tr>\n",
       "      <th>6</th>\n",
       "      <td>Ban Ki Chidiya</td>\n",
       "      <td>1938</td>\n",
       "      <td>0</td>\n",
       "      <td>Action</td>\n",
       "      <td>7.266085</td>\n",
       "      <td>9.555556</td>\n",
       "      <td>Jayant Desai</td>\n",
       "      <td>Madhuri</td>\n",
       "      <td>Eddie Billimoria</td>\n",
       "      <td>Ishwarlal</td>\n",
       "    </tr>\n",
       "    <tr>\n",
       "      <th>7</th>\n",
       "      <td>Banke Sanvaria</td>\n",
       "      <td>1938</td>\n",
       "      <td>0</td>\n",
       "      <td>NaN</td>\n",
       "      <td>7.266085</td>\n",
       "      <td>9.555556</td>\n",
       "      <td>Nanubhai Vakil</td>\n",
       "      <td>Navinchandra</td>\n",
       "      <td>Vatsala Kumthekar</td>\n",
       "      <td>Yasmin</td>\n",
       "    </tr>\n",
       "    <tr>\n",
       "      <th>8</th>\n",
       "      <td>Bhabi</td>\n",
       "      <td>1938</td>\n",
       "      <td>0</td>\n",
       "      <td>Drama, Family</td>\n",
       "      <td>7.266085</td>\n",
       "      <td>9.555556</td>\n",
       "      <td>Franz Osten</td>\n",
       "      <td>Renuka Devi</td>\n",
       "      <td>Paidi Jairaj</td>\n",
       "      <td>Meera</td>\n",
       "    </tr>\n",
       "    <tr>\n",
       "      <th>9</th>\n",
       "      <td>Bhedi Trishul</td>\n",
       "      <td>1938</td>\n",
       "      <td>0</td>\n",
       "      <td>NaN</td>\n",
       "      <td>7.266085</td>\n",
       "      <td>9.555556</td>\n",
       "      <td>A.M. Khan</td>\n",
       "      <td>Ameena</td>\n",
       "      <td>Ansari</td>\n",
       "      <td>Kamia</td>\n",
       "    </tr>\n",
       "  </tbody>\n",
       "</table>\n",
       "</div>"
      ],
      "text/plain": [
       "             Name  Year  Duration          Genre    Rating     Votes  \\\n",
       "0         Abhagin  1938       151            NaN  7.266085  9.555556   \n",
       "1       Abhilasha  1938       134            NaN  7.266085  9.555556   \n",
       "2         Adhikar  1938       132            NaN  7.266085  9.555556   \n",
       "3        Baazigar  1938       152            NaN  7.266085  9.555556   \n",
       "4         Baghban  1938       159          Drama  7.266085  9.555556   \n",
       "5   Bahadur Kisan  1938         0            NaN  7.266085  9.555556   \n",
       "6  Ban Ki Chidiya  1938         0         Action  7.266085  9.555556   \n",
       "7  Banke Sanvaria  1938         0            NaN  7.266085  9.555556   \n",
       "8           Bhabi  1938         0  Drama, Family  7.266085  9.555556   \n",
       "9   Bhedi Trishul  1938         0            NaN  7.266085  9.555556   \n",
       "\n",
       "                 Director           Actor 1            Actor 2        Actor 3  \n",
       "0            Prafulla Roy       Molina Devi  Prithviraj Kapoor    Vijay Kumar  \n",
       "1             Zia Sarhadi  Mahendra Thakore           M. Kumar          Bibbo  \n",
       "2              P.C. Barua        P.C. Barua             Jamuna  Pahadi Sanyal  \n",
       "3  Mohan Dayaram Bhavnani       K.L. Saigal        Ashok Kumar          Bibbo  \n",
       "4     Abdul Rashid Kardar      Bimla Kumari       B. Nandrekar    Sitara Devi  \n",
       "5          Master Bhagwan        Chandrarao         Chandrarao   Hansa Wadkar  \n",
       "6            Jayant Desai           Madhuri   Eddie Billimoria      Ishwarlal  \n",
       "7          Nanubhai Vakil      Navinchandra  Vatsala Kumthekar         Yasmin  \n",
       "8             Franz Osten       Renuka Devi       Paidi Jairaj          Meera  \n",
       "9               A.M. Khan            Ameena             Ansari          Kamia  "
      ]
     },
     "execution_count": 25,
     "metadata": {},
     "output_type": "execute_result"
    }
   ],
   "source": [
    "#Top 10 movies according to rating per year and overall.\n",
    "overall=df.nlargest(10,'Rating')\n",
    "overall=overall.reset_index(drop=True)\n",
    "print(\"Top 10 Movies Overall:\")\n",
    "overall"
   ]
  },
  {
   "cell_type": "code",
   "execution_count": 26,
   "id": "11fed01c",
   "metadata": {},
   "outputs": [
    {
     "name": "stderr",
     "output_type": "stream",
     "text": [
      "C:\\Users\\Babasaheb\\AppData\\Local\\Temp\\ipykernel_4668\\4045141118.py:5: FutureWarning: The frame.append method is deprecated and will be removed from pandas in a future version. Use pandas.concat instead.\n",
      "  top_10_per_year = top_10_per_year.append(top_10_year)\n",
      "C:\\Users\\Babasaheb\\AppData\\Local\\Temp\\ipykernel_4668\\4045141118.py:5: FutureWarning: The frame.append method is deprecated and will be removed from pandas in a future version. Use pandas.concat instead.\n",
      "  top_10_per_year = top_10_per_year.append(top_10_year)\n",
      "C:\\Users\\Babasaheb\\AppData\\Local\\Temp\\ipykernel_4668\\4045141118.py:5: FutureWarning: The frame.append method is deprecated and will be removed from pandas in a future version. Use pandas.concat instead.\n",
      "  top_10_per_year = top_10_per_year.append(top_10_year)\n",
      "C:\\Users\\Babasaheb\\AppData\\Local\\Temp\\ipykernel_4668\\4045141118.py:5: FutureWarning: The frame.append method is deprecated and will be removed from pandas in a future version. Use pandas.concat instead.\n",
      "  top_10_per_year = top_10_per_year.append(top_10_year)\n",
      "C:\\Users\\Babasaheb\\AppData\\Local\\Temp\\ipykernel_4668\\4045141118.py:5: FutureWarning: The frame.append method is deprecated and will be removed from pandas in a future version. Use pandas.concat instead.\n",
      "  top_10_per_year = top_10_per_year.append(top_10_year)\n",
      "C:\\Users\\Babasaheb\\AppData\\Local\\Temp\\ipykernel_4668\\4045141118.py:5: FutureWarning: The frame.append method is deprecated and will be removed from pandas in a future version. Use pandas.concat instead.\n",
      "  top_10_per_year = top_10_per_year.append(top_10_year)\n",
      "C:\\Users\\Babasaheb\\AppData\\Local\\Temp\\ipykernel_4668\\4045141118.py:5: FutureWarning: The frame.append method is deprecated and will be removed from pandas in a future version. Use pandas.concat instead.\n",
      "  top_10_per_year = top_10_per_year.append(top_10_year)\n",
      "C:\\Users\\Babasaheb\\AppData\\Local\\Temp\\ipykernel_4668\\4045141118.py:5: FutureWarning: The frame.append method is deprecated and will be removed from pandas in a future version. Use pandas.concat instead.\n",
      "  top_10_per_year = top_10_per_year.append(top_10_year)\n",
      "C:\\Users\\Babasaheb\\AppData\\Local\\Temp\\ipykernel_4668\\4045141118.py:5: FutureWarning: The frame.append method is deprecated and will be removed from pandas in a future version. Use pandas.concat instead.\n",
      "  top_10_per_year = top_10_per_year.append(top_10_year)\n",
      "C:\\Users\\Babasaheb\\AppData\\Local\\Temp\\ipykernel_4668\\4045141118.py:5: FutureWarning: The frame.append method is deprecated and will be removed from pandas in a future version. Use pandas.concat instead.\n",
      "  top_10_per_year = top_10_per_year.append(top_10_year)\n",
      "C:\\Users\\Babasaheb\\AppData\\Local\\Temp\\ipykernel_4668\\4045141118.py:5: FutureWarning: The frame.append method is deprecated and will be removed from pandas in a future version. Use pandas.concat instead.\n",
      "  top_10_per_year = top_10_per_year.append(top_10_year)\n",
      "C:\\Users\\Babasaheb\\AppData\\Local\\Temp\\ipykernel_4668\\4045141118.py:5: FutureWarning: The frame.append method is deprecated and will be removed from pandas in a future version. Use pandas.concat instead.\n",
      "  top_10_per_year = top_10_per_year.append(top_10_year)\n",
      "C:\\Users\\Babasaheb\\AppData\\Local\\Temp\\ipykernel_4668\\4045141118.py:5: FutureWarning: The frame.append method is deprecated and will be removed from pandas in a future version. Use pandas.concat instead.\n",
      "  top_10_per_year = top_10_per_year.append(top_10_year)\n",
      "C:\\Users\\Babasaheb\\AppData\\Local\\Temp\\ipykernel_4668\\4045141118.py:5: FutureWarning: The frame.append method is deprecated and will be removed from pandas in a future version. Use pandas.concat instead.\n",
      "  top_10_per_year = top_10_per_year.append(top_10_year)\n",
      "C:\\Users\\Babasaheb\\AppData\\Local\\Temp\\ipykernel_4668\\4045141118.py:5: FutureWarning: The frame.append method is deprecated and will be removed from pandas in a future version. Use pandas.concat instead.\n",
      "  top_10_per_year = top_10_per_year.append(top_10_year)\n",
      "C:\\Users\\Babasaheb\\AppData\\Local\\Temp\\ipykernel_4668\\4045141118.py:5: FutureWarning: The frame.append method is deprecated and will be removed from pandas in a future version. Use pandas.concat instead.\n",
      "  top_10_per_year = top_10_per_year.append(top_10_year)\n",
      "C:\\Users\\Babasaheb\\AppData\\Local\\Temp\\ipykernel_4668\\4045141118.py:5: FutureWarning: The frame.append method is deprecated and will be removed from pandas in a future version. Use pandas.concat instead.\n",
      "  top_10_per_year = top_10_per_year.append(top_10_year)\n",
      "C:\\Users\\Babasaheb\\AppData\\Local\\Temp\\ipykernel_4668\\4045141118.py:5: FutureWarning: The frame.append method is deprecated and will be removed from pandas in a future version. Use pandas.concat instead.\n",
      "  top_10_per_year = top_10_per_year.append(top_10_year)\n",
      "C:\\Users\\Babasaheb\\AppData\\Local\\Temp\\ipykernel_4668\\4045141118.py:5: FutureWarning: The frame.append method is deprecated and will be removed from pandas in a future version. Use pandas.concat instead.\n",
      "  top_10_per_year = top_10_per_year.append(top_10_year)\n",
      "C:\\Users\\Babasaheb\\AppData\\Local\\Temp\\ipykernel_4668\\4045141118.py:5: FutureWarning: The frame.append method is deprecated and will be removed from pandas in a future version. Use pandas.concat instead.\n",
      "  top_10_per_year = top_10_per_year.append(top_10_year)\n",
      "C:\\Users\\Babasaheb\\AppData\\Local\\Temp\\ipykernel_4668\\4045141118.py:5: FutureWarning: The frame.append method is deprecated and will be removed from pandas in a future version. Use pandas.concat instead.\n",
      "  top_10_per_year = top_10_per_year.append(top_10_year)\n",
      "C:\\Users\\Babasaheb\\AppData\\Local\\Temp\\ipykernel_4668\\4045141118.py:5: FutureWarning: The frame.append method is deprecated and will be removed from pandas in a future version. Use pandas.concat instead.\n",
      "  top_10_per_year = top_10_per_year.append(top_10_year)\n",
      "C:\\Users\\Babasaheb\\AppData\\Local\\Temp\\ipykernel_4668\\4045141118.py:5: FutureWarning: The frame.append method is deprecated and will be removed from pandas in a future version. Use pandas.concat instead.\n",
      "  top_10_per_year = top_10_per_year.append(top_10_year)\n",
      "C:\\Users\\Babasaheb\\AppData\\Local\\Temp\\ipykernel_4668\\4045141118.py:5: FutureWarning: The frame.append method is deprecated and will be removed from pandas in a future version. Use pandas.concat instead.\n",
      "  top_10_per_year = top_10_per_year.append(top_10_year)\n",
      "C:\\Users\\Babasaheb\\AppData\\Local\\Temp\\ipykernel_4668\\4045141118.py:5: FutureWarning: The frame.append method is deprecated and will be removed from pandas in a future version. Use pandas.concat instead.\n",
      "  top_10_per_year = top_10_per_year.append(top_10_year)\n",
      "C:\\Users\\Babasaheb\\AppData\\Local\\Temp\\ipykernel_4668\\4045141118.py:5: FutureWarning: The frame.append method is deprecated and will be removed from pandas in a future version. Use pandas.concat instead.\n",
      "  top_10_per_year = top_10_per_year.append(top_10_year)\n",
      "C:\\Users\\Babasaheb\\AppData\\Local\\Temp\\ipykernel_4668\\4045141118.py:5: FutureWarning: The frame.append method is deprecated and will be removed from pandas in a future version. Use pandas.concat instead.\n",
      "  top_10_per_year = top_10_per_year.append(top_10_year)\n",
      "C:\\Users\\Babasaheb\\AppData\\Local\\Temp\\ipykernel_4668\\4045141118.py:5: FutureWarning: The frame.append method is deprecated and will be removed from pandas in a future version. Use pandas.concat instead.\n",
      "  top_10_per_year = top_10_per_year.append(top_10_year)\n",
      "C:\\Users\\Babasaheb\\AppData\\Local\\Temp\\ipykernel_4668\\4045141118.py:5: FutureWarning: The frame.append method is deprecated and will be removed from pandas in a future version. Use pandas.concat instead.\n",
      "  top_10_per_year = top_10_per_year.append(top_10_year)\n",
      "C:\\Users\\Babasaheb\\AppData\\Local\\Temp\\ipykernel_4668\\4045141118.py:5: FutureWarning: The frame.append method is deprecated and will be removed from pandas in a future version. Use pandas.concat instead.\n",
      "  top_10_per_year = top_10_per_year.append(top_10_year)\n",
      "C:\\Users\\Babasaheb\\AppData\\Local\\Temp\\ipykernel_4668\\4045141118.py:5: FutureWarning: The frame.append method is deprecated and will be removed from pandas in a future version. Use pandas.concat instead.\n",
      "  top_10_per_year = top_10_per_year.append(top_10_year)\n",
      "C:\\Users\\Babasaheb\\AppData\\Local\\Temp\\ipykernel_4668\\4045141118.py:5: FutureWarning: The frame.append method is deprecated and will be removed from pandas in a future version. Use pandas.concat instead.\n",
      "  top_10_per_year = top_10_per_year.append(top_10_year)\n",
      "C:\\Users\\Babasaheb\\AppData\\Local\\Temp\\ipykernel_4668\\4045141118.py:5: FutureWarning: The frame.append method is deprecated and will be removed from pandas in a future version. Use pandas.concat instead.\n",
      "  top_10_per_year = top_10_per_year.append(top_10_year)\n",
      "C:\\Users\\Babasaheb\\AppData\\Local\\Temp\\ipykernel_4668\\4045141118.py:5: FutureWarning: The frame.append method is deprecated and will be removed from pandas in a future version. Use pandas.concat instead.\n",
      "  top_10_per_year = top_10_per_year.append(top_10_year)\n",
      "C:\\Users\\Babasaheb\\AppData\\Local\\Temp\\ipykernel_4668\\4045141118.py:5: FutureWarning: The frame.append method is deprecated and will be removed from pandas in a future version. Use pandas.concat instead.\n",
      "  top_10_per_year = top_10_per_year.append(top_10_year)\n",
      "C:\\Users\\Babasaheb\\AppData\\Local\\Temp\\ipykernel_4668\\4045141118.py:5: FutureWarning: The frame.append method is deprecated and will be removed from pandas in a future version. Use pandas.concat instead.\n",
      "  top_10_per_year = top_10_per_year.append(top_10_year)\n",
      "C:\\Users\\Babasaheb\\AppData\\Local\\Temp\\ipykernel_4668\\4045141118.py:5: FutureWarning: The frame.append method is deprecated and will be removed from pandas in a future version. Use pandas.concat instead.\n",
      "  top_10_per_year = top_10_per_year.append(top_10_year)\n"
     ]
    },
    {
     "name": "stderr",
     "output_type": "stream",
     "text": [
      "C:\\Users\\Babasaheb\\AppData\\Local\\Temp\\ipykernel_4668\\4045141118.py:5: FutureWarning: The frame.append method is deprecated and will be removed from pandas in a future version. Use pandas.concat instead.\n",
      "  top_10_per_year = top_10_per_year.append(top_10_year)\n",
      "C:\\Users\\Babasaheb\\AppData\\Local\\Temp\\ipykernel_4668\\4045141118.py:5: FutureWarning: The frame.append method is deprecated and will be removed from pandas in a future version. Use pandas.concat instead.\n",
      "  top_10_per_year = top_10_per_year.append(top_10_year)\n",
      "C:\\Users\\Babasaheb\\AppData\\Local\\Temp\\ipykernel_4668\\4045141118.py:5: FutureWarning: The frame.append method is deprecated and will be removed from pandas in a future version. Use pandas.concat instead.\n",
      "  top_10_per_year = top_10_per_year.append(top_10_year)\n",
      "C:\\Users\\Babasaheb\\AppData\\Local\\Temp\\ipykernel_4668\\4045141118.py:5: FutureWarning: The frame.append method is deprecated and will be removed from pandas in a future version. Use pandas.concat instead.\n",
      "  top_10_per_year = top_10_per_year.append(top_10_year)\n",
      "C:\\Users\\Babasaheb\\AppData\\Local\\Temp\\ipykernel_4668\\4045141118.py:5: FutureWarning: The frame.append method is deprecated and will be removed from pandas in a future version. Use pandas.concat instead.\n",
      "  top_10_per_year = top_10_per_year.append(top_10_year)\n",
      "C:\\Users\\Babasaheb\\AppData\\Local\\Temp\\ipykernel_4668\\4045141118.py:5: FutureWarning: The frame.append method is deprecated and will be removed from pandas in a future version. Use pandas.concat instead.\n",
      "  top_10_per_year = top_10_per_year.append(top_10_year)\n",
      "C:\\Users\\Babasaheb\\AppData\\Local\\Temp\\ipykernel_4668\\4045141118.py:5: FutureWarning: The frame.append method is deprecated and will be removed from pandas in a future version. Use pandas.concat instead.\n",
      "  top_10_per_year = top_10_per_year.append(top_10_year)\n",
      "C:\\Users\\Babasaheb\\AppData\\Local\\Temp\\ipykernel_4668\\4045141118.py:5: FutureWarning: The frame.append method is deprecated and will be removed from pandas in a future version. Use pandas.concat instead.\n",
      "  top_10_per_year = top_10_per_year.append(top_10_year)\n",
      "C:\\Users\\Babasaheb\\AppData\\Local\\Temp\\ipykernel_4668\\4045141118.py:5: FutureWarning: The frame.append method is deprecated and will be removed from pandas in a future version. Use pandas.concat instead.\n",
      "  top_10_per_year = top_10_per_year.append(top_10_year)\n",
      "C:\\Users\\Babasaheb\\AppData\\Local\\Temp\\ipykernel_4668\\4045141118.py:5: FutureWarning: The frame.append method is deprecated and will be removed from pandas in a future version. Use pandas.concat instead.\n",
      "  top_10_per_year = top_10_per_year.append(top_10_year)\n",
      "C:\\Users\\Babasaheb\\AppData\\Local\\Temp\\ipykernel_4668\\4045141118.py:5: FutureWarning: The frame.append method is deprecated and will be removed from pandas in a future version. Use pandas.concat instead.\n",
      "  top_10_per_year = top_10_per_year.append(top_10_year)\n",
      "C:\\Users\\Babasaheb\\AppData\\Local\\Temp\\ipykernel_4668\\4045141118.py:5: FutureWarning: The frame.append method is deprecated and will be removed from pandas in a future version. Use pandas.concat instead.\n",
      "  top_10_per_year = top_10_per_year.append(top_10_year)\n",
      "C:\\Users\\Babasaheb\\AppData\\Local\\Temp\\ipykernel_4668\\4045141118.py:5: FutureWarning: The frame.append method is deprecated and will be removed from pandas in a future version. Use pandas.concat instead.\n",
      "  top_10_per_year = top_10_per_year.append(top_10_year)\n",
      "C:\\Users\\Babasaheb\\AppData\\Local\\Temp\\ipykernel_4668\\4045141118.py:5: FutureWarning: The frame.append method is deprecated and will be removed from pandas in a future version. Use pandas.concat instead.\n",
      "  top_10_per_year = top_10_per_year.append(top_10_year)\n",
      "C:\\Users\\Babasaheb\\AppData\\Local\\Temp\\ipykernel_4668\\4045141118.py:5: FutureWarning: The frame.append method is deprecated and will be removed from pandas in a future version. Use pandas.concat instead.\n",
      "  top_10_per_year = top_10_per_year.append(top_10_year)\n",
      "C:\\Users\\Babasaheb\\AppData\\Local\\Temp\\ipykernel_4668\\4045141118.py:5: FutureWarning: The frame.append method is deprecated and will be removed from pandas in a future version. Use pandas.concat instead.\n",
      "  top_10_per_year = top_10_per_year.append(top_10_year)\n",
      "C:\\Users\\Babasaheb\\AppData\\Local\\Temp\\ipykernel_4668\\4045141118.py:5: FutureWarning: The frame.append method is deprecated and will be removed from pandas in a future version. Use pandas.concat instead.\n",
      "  top_10_per_year = top_10_per_year.append(top_10_year)\n",
      "C:\\Users\\Babasaheb\\AppData\\Local\\Temp\\ipykernel_4668\\4045141118.py:5: FutureWarning: The frame.append method is deprecated and will be removed from pandas in a future version. Use pandas.concat instead.\n",
      "  top_10_per_year = top_10_per_year.append(top_10_year)\n",
      "C:\\Users\\Babasaheb\\AppData\\Local\\Temp\\ipykernel_4668\\4045141118.py:5: FutureWarning: The frame.append method is deprecated and will be removed from pandas in a future version. Use pandas.concat instead.\n",
      "  top_10_per_year = top_10_per_year.append(top_10_year)\n",
      "C:\\Users\\Babasaheb\\AppData\\Local\\Temp\\ipykernel_4668\\4045141118.py:5: FutureWarning: The frame.append method is deprecated and will be removed from pandas in a future version. Use pandas.concat instead.\n",
      "  top_10_per_year = top_10_per_year.append(top_10_year)\n",
      "C:\\Users\\Babasaheb\\AppData\\Local\\Temp\\ipykernel_4668\\4045141118.py:5: FutureWarning: The frame.append method is deprecated and will be removed from pandas in a future version. Use pandas.concat instead.\n",
      "  top_10_per_year = top_10_per_year.append(top_10_year)\n",
      "C:\\Users\\Babasaheb\\AppData\\Local\\Temp\\ipykernel_4668\\4045141118.py:5: FutureWarning: The frame.append method is deprecated and will be removed from pandas in a future version. Use pandas.concat instead.\n",
      "  top_10_per_year = top_10_per_year.append(top_10_year)\n",
      "C:\\Users\\Babasaheb\\AppData\\Local\\Temp\\ipykernel_4668\\4045141118.py:5: FutureWarning: The frame.append method is deprecated and will be removed from pandas in a future version. Use pandas.concat instead.\n",
      "  top_10_per_year = top_10_per_year.append(top_10_year)\n",
      "C:\\Users\\Babasaheb\\AppData\\Local\\Temp\\ipykernel_4668\\4045141118.py:5: FutureWarning: The frame.append method is deprecated and will be removed from pandas in a future version. Use pandas.concat instead.\n",
      "  top_10_per_year = top_10_per_year.append(top_10_year)\n",
      "C:\\Users\\Babasaheb\\AppData\\Local\\Temp\\ipykernel_4668\\4045141118.py:5: FutureWarning: The frame.append method is deprecated and will be removed from pandas in a future version. Use pandas.concat instead.\n",
      "  top_10_per_year = top_10_per_year.append(top_10_year)\n",
      "C:\\Users\\Babasaheb\\AppData\\Local\\Temp\\ipykernel_4668\\4045141118.py:5: FutureWarning: The frame.append method is deprecated and will be removed from pandas in a future version. Use pandas.concat instead.\n",
      "  top_10_per_year = top_10_per_year.append(top_10_year)\n",
      "C:\\Users\\Babasaheb\\AppData\\Local\\Temp\\ipykernel_4668\\4045141118.py:5: FutureWarning: The frame.append method is deprecated and will be removed from pandas in a future version. Use pandas.concat instead.\n",
      "  top_10_per_year = top_10_per_year.append(top_10_year)\n",
      "C:\\Users\\Babasaheb\\AppData\\Local\\Temp\\ipykernel_4668\\4045141118.py:5: FutureWarning: The frame.append method is deprecated and will be removed from pandas in a future version. Use pandas.concat instead.\n",
      "  top_10_per_year = top_10_per_year.append(top_10_year)\n",
      "C:\\Users\\Babasaheb\\AppData\\Local\\Temp\\ipykernel_4668\\4045141118.py:5: FutureWarning: The frame.append method is deprecated and will be removed from pandas in a future version. Use pandas.concat instead.\n",
      "  top_10_per_year = top_10_per_year.append(top_10_year)\n",
      "C:\\Users\\Babasaheb\\AppData\\Local\\Temp\\ipykernel_4668\\4045141118.py:5: FutureWarning: The frame.append method is deprecated and will be removed from pandas in a future version. Use pandas.concat instead.\n",
      "  top_10_per_year = top_10_per_year.append(top_10_year)\n",
      "C:\\Users\\Babasaheb\\AppData\\Local\\Temp\\ipykernel_4668\\4045141118.py:5: FutureWarning: The frame.append method is deprecated and will be removed from pandas in a future version. Use pandas.concat instead.\n",
      "  top_10_per_year = top_10_per_year.append(top_10_year)\n",
      "C:\\Users\\Babasaheb\\AppData\\Local\\Temp\\ipykernel_4668\\4045141118.py:5: FutureWarning: The frame.append method is deprecated and will be removed from pandas in a future version. Use pandas.concat instead.\n",
      "  top_10_per_year = top_10_per_year.append(top_10_year)\n",
      "C:\\Users\\Babasaheb\\AppData\\Local\\Temp\\ipykernel_4668\\4045141118.py:5: FutureWarning: The frame.append method is deprecated and will be removed from pandas in a future version. Use pandas.concat instead.\n",
      "  top_10_per_year = top_10_per_year.append(top_10_year)\n"
     ]
    },
    {
     "name": "stderr",
     "output_type": "stream",
     "text": [
      "C:\\Users\\Babasaheb\\AppData\\Local\\Temp\\ipykernel_4668\\4045141118.py:5: FutureWarning: The frame.append method is deprecated and will be removed from pandas in a future version. Use pandas.concat instead.\n",
      "  top_10_per_year = top_10_per_year.append(top_10_year)\n",
      "C:\\Users\\Babasaheb\\AppData\\Local\\Temp\\ipykernel_4668\\4045141118.py:5: FutureWarning: The frame.append method is deprecated and will be removed from pandas in a future version. Use pandas.concat instead.\n",
      "  top_10_per_year = top_10_per_year.append(top_10_year)\n",
      "C:\\Users\\Babasaheb\\AppData\\Local\\Temp\\ipykernel_4668\\4045141118.py:5: FutureWarning: The frame.append method is deprecated and will be removed from pandas in a future version. Use pandas.concat instead.\n",
      "  top_10_per_year = top_10_per_year.append(top_10_year)\n",
      "C:\\Users\\Babasaheb\\AppData\\Local\\Temp\\ipykernel_4668\\4045141118.py:5: FutureWarning: The frame.append method is deprecated and will be removed from pandas in a future version. Use pandas.concat instead.\n",
      "  top_10_per_year = top_10_per_year.append(top_10_year)\n",
      "C:\\Users\\Babasaheb\\AppData\\Local\\Temp\\ipykernel_4668\\4045141118.py:5: FutureWarning: The frame.append method is deprecated and will be removed from pandas in a future version. Use pandas.concat instead.\n",
      "  top_10_per_year = top_10_per_year.append(top_10_year)\n",
      "C:\\Users\\Babasaheb\\AppData\\Local\\Temp\\ipykernel_4668\\4045141118.py:5: FutureWarning: The frame.append method is deprecated and will be removed from pandas in a future version. Use pandas.concat instead.\n",
      "  top_10_per_year = top_10_per_year.append(top_10_year)\n",
      "C:\\Users\\Babasaheb\\AppData\\Local\\Temp\\ipykernel_4668\\4045141118.py:5: FutureWarning: The frame.append method is deprecated and will be removed from pandas in a future version. Use pandas.concat instead.\n",
      "  top_10_per_year = top_10_per_year.append(top_10_year)\n",
      "C:\\Users\\Babasaheb\\AppData\\Local\\Temp\\ipykernel_4668\\4045141118.py:5: FutureWarning: The frame.append method is deprecated and will be removed from pandas in a future version. Use pandas.concat instead.\n",
      "  top_10_per_year = top_10_per_year.append(top_10_year)\n",
      "C:\\Users\\Babasaheb\\AppData\\Local\\Temp\\ipykernel_4668\\4045141118.py:5: FutureWarning: The frame.append method is deprecated and will be removed from pandas in a future version. Use pandas.concat instead.\n",
      "  top_10_per_year = top_10_per_year.append(top_10_year)\n",
      "C:\\Users\\Babasaheb\\AppData\\Local\\Temp\\ipykernel_4668\\4045141118.py:5: FutureWarning: The frame.append method is deprecated and will be removed from pandas in a future version. Use pandas.concat instead.\n",
      "  top_10_per_year = top_10_per_year.append(top_10_year)\n",
      "C:\\Users\\Babasaheb\\AppData\\Local\\Temp\\ipykernel_4668\\4045141118.py:5: FutureWarning: The frame.append method is deprecated and will be removed from pandas in a future version. Use pandas.concat instead.\n",
      "  top_10_per_year = top_10_per_year.append(top_10_year)\n",
      "C:\\Users\\Babasaheb\\AppData\\Local\\Temp\\ipykernel_4668\\4045141118.py:5: FutureWarning: The frame.append method is deprecated and will be removed from pandas in a future version. Use pandas.concat instead.\n",
      "  top_10_per_year = top_10_per_year.append(top_10_year)\n",
      "C:\\Users\\Babasaheb\\AppData\\Local\\Temp\\ipykernel_4668\\4045141118.py:5: FutureWarning: The frame.append method is deprecated and will be removed from pandas in a future version. Use pandas.concat instead.\n",
      "  top_10_per_year = top_10_per_year.append(top_10_year)\n",
      "C:\\Users\\Babasaheb\\AppData\\Local\\Temp\\ipykernel_4668\\4045141118.py:5: FutureWarning: The frame.append method is deprecated and will be removed from pandas in a future version. Use pandas.concat instead.\n",
      "  top_10_per_year = top_10_per_year.append(top_10_year)\n",
      "C:\\Users\\Babasaheb\\AppData\\Local\\Temp\\ipykernel_4668\\4045141118.py:5: FutureWarning: The frame.append method is deprecated and will be removed from pandas in a future version. Use pandas.concat instead.\n",
      "  top_10_per_year = top_10_per_year.append(top_10_year)\n",
      "C:\\Users\\Babasaheb\\AppData\\Local\\Temp\\ipykernel_4668\\4045141118.py:5: FutureWarning: The frame.append method is deprecated and will be removed from pandas in a future version. Use pandas.concat instead.\n",
      "  top_10_per_year = top_10_per_year.append(top_10_year)\n",
      "C:\\Users\\Babasaheb\\AppData\\Local\\Temp\\ipykernel_4668\\4045141118.py:5: FutureWarning: The frame.append method is deprecated and will be removed from pandas in a future version. Use pandas.concat instead.\n",
      "  top_10_per_year = top_10_per_year.append(top_10_year)\n",
      "C:\\Users\\Babasaheb\\AppData\\Local\\Temp\\ipykernel_4668\\4045141118.py:5: FutureWarning: The frame.append method is deprecated and will be removed from pandas in a future version. Use pandas.concat instead.\n",
      "  top_10_per_year = top_10_per_year.append(top_10_year)\n",
      "C:\\Users\\Babasaheb\\AppData\\Local\\Temp\\ipykernel_4668\\4045141118.py:5: FutureWarning: The frame.append method is deprecated and will be removed from pandas in a future version. Use pandas.concat instead.\n",
      "  top_10_per_year = top_10_per_year.append(top_10_year)\n",
      "C:\\Users\\Babasaheb\\AppData\\Local\\Temp\\ipykernel_4668\\4045141118.py:5: FutureWarning: The frame.append method is deprecated and will be removed from pandas in a future version. Use pandas.concat instead.\n",
      "  top_10_per_year = top_10_per_year.append(top_10_year)\n",
      "C:\\Users\\Babasaheb\\AppData\\Local\\Temp\\ipykernel_4668\\4045141118.py:5: FutureWarning: The frame.append method is deprecated and will be removed from pandas in a future version. Use pandas.concat instead.\n",
      "  top_10_per_year = top_10_per_year.append(top_10_year)\n",
      "C:\\Users\\Babasaheb\\AppData\\Local\\Temp\\ipykernel_4668\\4045141118.py:5: FutureWarning: The frame.append method is deprecated and will be removed from pandas in a future version. Use pandas.concat instead.\n",
      "  top_10_per_year = top_10_per_year.append(top_10_year)\n",
      "C:\\Users\\Babasaheb\\AppData\\Local\\Temp\\ipykernel_4668\\4045141118.py:5: FutureWarning: The frame.append method is deprecated and will be removed from pandas in a future version. Use pandas.concat instead.\n",
      "  top_10_per_year = top_10_per_year.append(top_10_year)\n",
      "C:\\Users\\Babasaheb\\AppData\\Local\\Temp\\ipykernel_4668\\4045141118.py:5: FutureWarning: The frame.append method is deprecated and will be removed from pandas in a future version. Use pandas.concat instead.\n",
      "  top_10_per_year = top_10_per_year.append(top_10_year)\n",
      "C:\\Users\\Babasaheb\\AppData\\Local\\Temp\\ipykernel_4668\\4045141118.py:5: FutureWarning: The frame.append method is deprecated and will be removed from pandas in a future version. Use pandas.concat instead.\n",
      "  top_10_per_year = top_10_per_year.append(top_10_year)\n",
      "C:\\Users\\Babasaheb\\AppData\\Local\\Temp\\ipykernel_4668\\4045141118.py:5: FutureWarning: The frame.append method is deprecated and will be removed from pandas in a future version. Use pandas.concat instead.\n",
      "  top_10_per_year = top_10_per_year.append(top_10_year)\n",
      "C:\\Users\\Babasaheb\\AppData\\Local\\Temp\\ipykernel_4668\\4045141118.py:5: FutureWarning: The frame.append method is deprecated and will be removed from pandas in a future version. Use pandas.concat instead.\n",
      "  top_10_per_year = top_10_per_year.append(top_10_year)\n"
     ]
    },
    {
     "name": "stdout",
     "output_type": "stream",
     "text": [
      "\n",
      "Top 10 Movies Per Year:\n"
     ]
    },
    {
     "name": "stderr",
     "output_type": "stream",
     "text": [
      "C:\\Users\\Babasaheb\\AppData\\Local\\Temp\\ipykernel_4668\\4045141118.py:5: FutureWarning: The frame.append method is deprecated and will be removed from pandas in a future version. Use pandas.concat instead.\n",
      "  top_10_per_year = top_10_per_year.append(top_10_year)\n",
      "C:\\Users\\Babasaheb\\AppData\\Local\\Temp\\ipykernel_4668\\4045141118.py:5: FutureWarning: The frame.append method is deprecated and will be removed from pandas in a future version. Use pandas.concat instead.\n",
      "  top_10_per_year = top_10_per_year.append(top_10_year)\n",
      "C:\\Users\\Babasaheb\\AppData\\Local\\Temp\\ipykernel_4668\\4045141118.py:5: FutureWarning: The frame.append method is deprecated and will be removed from pandas in a future version. Use pandas.concat instead.\n",
      "  top_10_per_year = top_10_per_year.append(top_10_year)\n",
      "C:\\Users\\Babasaheb\\AppData\\Local\\Temp\\ipykernel_4668\\4045141118.py:5: FutureWarning: The frame.append method is deprecated and will be removed from pandas in a future version. Use pandas.concat instead.\n",
      "  top_10_per_year = top_10_per_year.append(top_10_year)\n",
      "C:\\Users\\Babasaheb\\AppData\\Local\\Temp\\ipykernel_4668\\4045141118.py:5: FutureWarning: The frame.append method is deprecated and will be removed from pandas in a future version. Use pandas.concat instead.\n",
      "  top_10_per_year = top_10_per_year.append(top_10_year)\n"
     ]
    },
    {
     "data": {
      "text/html": [
       "<div>\n",
       "<style scoped>\n",
       "    .dataframe tbody tr th:only-of-type {\n",
       "        vertical-align: middle;\n",
       "    }\n",
       "\n",
       "    .dataframe tbody tr th {\n",
       "        vertical-align: top;\n",
       "    }\n",
       "\n",
       "    .dataframe thead th {\n",
       "        text-align: right;\n",
       "    }\n",
       "</style>\n",
       "<table border=\"1\" class=\"dataframe\">\n",
       "  <thead>\n",
       "    <tr style=\"text-align: right;\">\n",
       "      <th></th>\n",
       "      <th>Name</th>\n",
       "      <th>Year</th>\n",
       "      <th>Duration</th>\n",
       "      <th>Genre</th>\n",
       "      <th>Rating</th>\n",
       "      <th>Votes</th>\n",
       "      <th>Director</th>\n",
       "      <th>Actor 1</th>\n",
       "      <th>Actor 2</th>\n",
       "      <th>Actor 3</th>\n",
       "    </tr>\n",
       "  </thead>\n",
       "  <tbody>\n",
       "    <tr>\n",
       "      <th>0</th>\n",
       "      <td>#Gadhvi (He thought he was Gandhi)</td>\n",
       "      <td>2019</td>\n",
       "      <td>109</td>\n",
       "      <td>Drama</td>\n",
       "      <td>6.489797</td>\n",
       "      <td>121.779116</td>\n",
       "      <td>Gaurav Bakshi</td>\n",
       "      <td>Rasika Dugal</td>\n",
       "      <td>Vivek Ghamande</td>\n",
       "      <td>Arvind Jangid</td>\n",
       "    </tr>\n",
       "    <tr>\n",
       "      <th>1</th>\n",
       "      <td>#Yaaram</td>\n",
       "      <td>2019</td>\n",
       "      <td>110</td>\n",
       "      <td>Comedy, Romance</td>\n",
       "      <td>6.489797</td>\n",
       "      <td>121.779116</td>\n",
       "      <td>Ovais Khan</td>\n",
       "      <td>Prateik</td>\n",
       "      <td>Ishita Raj</td>\n",
       "      <td>Siddhant Kapoor</td>\n",
       "    </tr>\n",
       "    <tr>\n",
       "      <th>2</th>\n",
       "      <td>1978: A Teen Night Out</td>\n",
       "      <td>2019</td>\n",
       "      <td>107</td>\n",
       "      <td>Thriller</td>\n",
       "      <td>6.489797</td>\n",
       "      <td>121.779116</td>\n",
       "      <td>Aziz Zee</td>\n",
       "      <td>Abuzar Akhtar</td>\n",
       "      <td>Apurva Godbole</td>\n",
       "      <td>Vaishnavi Kadam</td>\n",
       "    </tr>\n",
       "    <tr>\n",
       "      <th>3</th>\n",
       "      <td>2 Band Radio</td>\n",
       "      <td>2019</td>\n",
       "      <td>0</td>\n",
       "      <td>Comedy</td>\n",
       "      <td>6.489797</td>\n",
       "      <td>121.779116</td>\n",
       "      <td>Saki Shah</td>\n",
       "      <td>Bilal Ahamad Bhagat</td>\n",
       "      <td>Neelu Dogra</td>\n",
       "      <td>Rahat Kazmi</td>\n",
       "    </tr>\n",
       "    <tr>\n",
       "      <th>4</th>\n",
       "      <td>22 Yards</td>\n",
       "      <td>2019</td>\n",
       "      <td>126</td>\n",
       "      <td>Sport</td>\n",
       "      <td>6.489797</td>\n",
       "      <td>121.779116</td>\n",
       "      <td>Mitali Ghoshal</td>\n",
       "      <td>Barun Sobti</td>\n",
       "      <td>Amartya Ray</td>\n",
       "      <td>Rajit Kapoor</td>\n",
       "    </tr>\n",
       "    <tr>\n",
       "      <th>...</th>\n",
       "      <td>...</td>\n",
       "      <td>...</td>\n",
       "      <td>...</td>\n",
       "      <td>...</td>\n",
       "      <td>...</td>\n",
       "      <td>...</td>\n",
       "      <td>...</td>\n",
       "      <td>...</td>\n",
       "      <td>...</td>\n",
       "      <td>...</td>\n",
       "    </tr>\n",
       "    <tr>\n",
       "      <th>929</th>\n",
       "      <td>Ram Rahim</td>\n",
       "      <td>1930</td>\n",
       "      <td>0</td>\n",
       "      <td>NaN</td>\n",
       "      <td>NaN</td>\n",
       "      <td>NaN</td>\n",
       "      <td>K.P. Bhave</td>\n",
       "      <td>Eddie Billimoria</td>\n",
       "      <td>Gohar</td>\n",
       "      <td>Mazhar Khan</td>\n",
       "    </tr>\n",
       "    <tr>\n",
       "      <th>930</th>\n",
       "      <td>Veer Na Ver</td>\n",
       "      <td>1930</td>\n",
       "      <td>0</td>\n",
       "      <td>NaN</td>\n",
       "      <td>NaN</td>\n",
       "      <td>NaN</td>\n",
       "      <td>Moti B. Gidwani</td>\n",
       "      <td>Gohar</td>\n",
       "      <td>Master Vithal</td>\n",
       "      <td>Mazhar Khan</td>\n",
       "    </tr>\n",
       "    <tr>\n",
       "      <th>931</th>\n",
       "      <td>Ram Rajya Vijay</td>\n",
       "      <td>1926</td>\n",
       "      <td>0</td>\n",
       "      <td>NaN</td>\n",
       "      <td>NaN</td>\n",
       "      <td>NaN</td>\n",
       "      <td>Dhundiraj Govind Phalke</td>\n",
       "      <td>unknown</td>\n",
       "      <td>unknown</td>\n",
       "      <td>unknown</td>\n",
       "    </tr>\n",
       "    <tr>\n",
       "      <th>932</th>\n",
       "      <td>Satyavan Savitri</td>\n",
       "      <td>1914</td>\n",
       "      <td>0</td>\n",
       "      <td>NaN</td>\n",
       "      <td>NaN</td>\n",
       "      <td>NaN</td>\n",
       "      <td>Dhundiraj Govind Phalke</td>\n",
       "      <td>unknown</td>\n",
       "      <td>unknown</td>\n",
       "      <td>unknown</td>\n",
       "    </tr>\n",
       "    <tr>\n",
       "      <th>933</th>\n",
       "      <td>Sita Shuddhi</td>\n",
       "      <td>1924</td>\n",
       "      <td>0</td>\n",
       "      <td>NaN</td>\n",
       "      <td>NaN</td>\n",
       "      <td>NaN</td>\n",
       "      <td>Dhundiraj Govind Phalke</td>\n",
       "      <td>unknown</td>\n",
       "      <td>unknown</td>\n",
       "      <td>unknown</td>\n",
       "    </tr>\n",
       "  </tbody>\n",
       "</table>\n",
       "<p>934 rows × 10 columns</p>\n",
       "</div>"
      ],
      "text/plain": [
       "                                   Name  Year  Duration            Genre  \\\n",
       "0    #Gadhvi (He thought he was Gandhi)  2019       109            Drama   \n",
       "1                               #Yaaram  2019       110  Comedy, Romance   \n",
       "2                1978: A Teen Night Out  2019       107         Thriller   \n",
       "3                          2 Band Radio  2019         0           Comedy   \n",
       "4                              22 Yards  2019       126            Sport   \n",
       "..                                  ...   ...       ...              ...   \n",
       "929                           Ram Rahim  1930         0              NaN   \n",
       "930                         Veer Na Ver  1930         0              NaN   \n",
       "931                     Ram Rajya Vijay  1926         0              NaN   \n",
       "932                    Satyavan Savitri  1914         0              NaN   \n",
       "933                        Sita Shuddhi  1924         0              NaN   \n",
       "\n",
       "       Rating       Votes                 Director              Actor 1  \\\n",
       "0    6.489797  121.779116            Gaurav Bakshi         Rasika Dugal   \n",
       "1    6.489797  121.779116               Ovais Khan              Prateik   \n",
       "2    6.489797  121.779116                 Aziz Zee        Abuzar Akhtar   \n",
       "3    6.489797  121.779116                Saki Shah  Bilal Ahamad Bhagat   \n",
       "4    6.489797  121.779116           Mitali Ghoshal          Barun Sobti   \n",
       "..        ...         ...                      ...                  ...   \n",
       "929       NaN         NaN               K.P. Bhave     Eddie Billimoria   \n",
       "930       NaN         NaN          Moti B. Gidwani                Gohar   \n",
       "931       NaN         NaN  Dhundiraj Govind Phalke              unknown   \n",
       "932       NaN         NaN  Dhundiraj Govind Phalke              unknown   \n",
       "933       NaN         NaN  Dhundiraj Govind Phalke              unknown   \n",
       "\n",
       "            Actor 2          Actor 3  \n",
       "0    Vivek Ghamande    Arvind Jangid  \n",
       "1        Ishita Raj  Siddhant Kapoor  \n",
       "2    Apurva Godbole  Vaishnavi Kadam  \n",
       "3       Neelu Dogra      Rahat Kazmi  \n",
       "4       Amartya Ray     Rajit Kapoor  \n",
       "..              ...              ...  \n",
       "929           Gohar      Mazhar Khan  \n",
       "930   Master Vithal      Mazhar Khan  \n",
       "931         unknown          unknown  \n",
       "932         unknown          unknown  \n",
       "933         unknown          unknown  \n",
       "\n",
       "[934 rows x 10 columns]"
      ]
     },
     "execution_count": 26,
     "metadata": {},
     "output_type": "execute_result"
    }
   ],
   "source": [
    "top_10_per_year = pd.DataFrame()\n",
    "for year in df['Year'].unique():\n",
    "    year_df = df[df['Year'] == year]\n",
    "    top_10_year = year_df.nlargest(10, 'Rating').sort_values(by='Rating', ascending=False)\n",
    "    top_10_per_year = top_10_per_year.append(top_10_year)\n",
    "    \n",
    "\n",
    "top_10_per_year = top_10_per_year.reset_index(drop=True)   \n",
    "print(\"\\nTop 10 Movies Per Year:\")\n",
    "top_10_per_year"
   ]
  },
  {
   "cell_type": "code",
   "execution_count": 27,
   "id": "c5f52eab",
   "metadata": {},
   "outputs": [
    {
     "data": {
      "text/html": [
       "<div>\n",
       "<style scoped>\n",
       "    .dataframe tbody tr th:only-of-type {\n",
       "        vertical-align: middle;\n",
       "    }\n",
       "\n",
       "    .dataframe tbody tr th {\n",
       "        vertical-align: top;\n",
       "    }\n",
       "\n",
       "    .dataframe thead th {\n",
       "        text-align: right;\n",
       "    }\n",
       "</style>\n",
       "<table border=\"1\" class=\"dataframe\">\n",
       "  <thead>\n",
       "    <tr style=\"text-align: right;\">\n",
       "      <th></th>\n",
       "      <th>Name</th>\n",
       "      <th>Year</th>\n",
       "      <th>Duration</th>\n",
       "      <th>Genre</th>\n",
       "      <th>Rating</th>\n",
       "      <th>Votes</th>\n",
       "      <th>Director</th>\n",
       "      <th>Actor 1</th>\n",
       "      <th>Actor 2</th>\n",
       "      <th>Actor 3</th>\n",
       "    </tr>\n",
       "  </thead>\n",
       "  <tbody>\n",
       "    <tr>\n",
       "      <th>1</th>\n",
       "      <td>#Gadhvi (He thought he was Gandhi)</td>\n",
       "      <td>2019</td>\n",
       "      <td>109</td>\n",
       "      <td>Drama</td>\n",
       "      <td>6.489797</td>\n",
       "      <td>121.779116</td>\n",
       "      <td>Gaurav Bakshi</td>\n",
       "      <td>Rasika Dugal</td>\n",
       "      <td>Vivek Ghamande</td>\n",
       "      <td>Arvind Jangid</td>\n",
       "    </tr>\n",
       "    <tr>\n",
       "      <th>2</th>\n",
       "      <td>#Homecoming</td>\n",
       "      <td>2021</td>\n",
       "      <td>90</td>\n",
       "      <td>Drama, Musical</td>\n",
       "      <td>6.917411</td>\n",
       "      <td>116.666667</td>\n",
       "      <td>Soumyajit Majumdar</td>\n",
       "      <td>Sayani Gupta</td>\n",
       "      <td>Plabita Borthakur</td>\n",
       "      <td>Roy Angana</td>\n",
       "    </tr>\n",
       "    <tr>\n",
       "      <th>3</th>\n",
       "      <td>#Yaaram</td>\n",
       "      <td>2019</td>\n",
       "      <td>110</td>\n",
       "      <td>Comedy, Romance</td>\n",
       "      <td>6.489797</td>\n",
       "      <td>121.779116</td>\n",
       "      <td>Ovais Khan</td>\n",
       "      <td>Prateik</td>\n",
       "      <td>Ishita Raj</td>\n",
       "      <td>Siddhant Kapoor</td>\n",
       "    </tr>\n",
       "    <tr>\n",
       "      <th>15</th>\n",
       "      <td>102 Not Out</td>\n",
       "      <td>2018</td>\n",
       "      <td>102</td>\n",
       "      <td>Comedy, Drama</td>\n",
       "      <td>6.450093</td>\n",
       "      <td>111.070175</td>\n",
       "      <td>Umesh Shukla</td>\n",
       "      <td>Amitabh Bachchan</td>\n",
       "      <td>Rishi Kapoor</td>\n",
       "      <td>Vijay Raaz</td>\n",
       "    </tr>\n",
       "    <tr>\n",
       "      <th>20</th>\n",
       "      <td>12 Bulbule</td>\n",
       "      <td>2021</td>\n",
       "      <td>0</td>\n",
       "      <td>Comedy, Drama, Family</td>\n",
       "      <td>6.917411</td>\n",
       "      <td>116.666667</td>\n",
       "      <td>Jagat Joon</td>\n",
       "      <td>Sonu Sonkar</td>\n",
       "      <td>Sunita Verman</td>\n",
       "      <td>Anubhav Dixit</td>\n",
       "    </tr>\n",
       "    <tr>\n",
       "      <th>...</th>\n",
       "      <td>...</td>\n",
       "      <td>...</td>\n",
       "      <td>...</td>\n",
       "      <td>...</td>\n",
       "      <td>...</td>\n",
       "      <td>...</td>\n",
       "      <td>...</td>\n",
       "      <td>...</td>\n",
       "      <td>...</td>\n",
       "      <td>...</td>\n",
       "    </tr>\n",
       "    <tr>\n",
       "      <th>15426</th>\n",
       "      <td>Zero</td>\n",
       "      <td>2018</td>\n",
       "      <td>164</td>\n",
       "      <td>Comedy, Drama, Romance</td>\n",
       "      <td>6.450093</td>\n",
       "      <td>111.070175</td>\n",
       "      <td>Aanand L. Rai</td>\n",
       "      <td>Shah Rukh Khan</td>\n",
       "      <td>Anushka Sharma</td>\n",
       "      <td>Katrina Kaif</td>\n",
       "    </tr>\n",
       "    <tr>\n",
       "      <th>15479</th>\n",
       "      <td>Zindagi Tumse</td>\n",
       "      <td>2019</td>\n",
       "      <td>120</td>\n",
       "      <td>Family</td>\n",
       "      <td>6.489797</td>\n",
       "      <td>121.779116</td>\n",
       "      <td>Tariq Bhat</td>\n",
       "      <td>Sadhana Singh</td>\n",
       "      <td>Guddi Maruti</td>\n",
       "      <td>Rajesh Puri</td>\n",
       "    </tr>\n",
       "    <tr>\n",
       "      <th>15480</th>\n",
       "      <td>Zindagi Unlimited</td>\n",
       "      <td>2021</td>\n",
       "      <td>105</td>\n",
       "      <td>NaN</td>\n",
       "      <td>6.917411</td>\n",
       "      <td>116.666667</td>\n",
       "      <td>Vipin Agnihotri</td>\n",
       "      <td>Amit Pandey</td>\n",
       "      <td>Kanchi Rohela</td>\n",
       "      <td>Kritika Sanghavi</td>\n",
       "    </tr>\n",
       "    <tr>\n",
       "      <th>15484</th>\n",
       "      <td>Zinga</td>\n",
       "      <td>2021</td>\n",
       "      <td>0</td>\n",
       "      <td>Adventure, Fantasy, Sci-Fi</td>\n",
       "      <td>6.917411</td>\n",
       "      <td>116.666667</td>\n",
       "      <td>Jaishankar Chigurula</td>\n",
       "      <td>Sri Ram</td>\n",
       "      <td>Devan Sanjeev</td>\n",
       "      <td>Kasu Naveen Kumar</td>\n",
       "    </tr>\n",
       "    <tr>\n",
       "      <th>15488</th>\n",
       "      <td>Zoo</td>\n",
       "      <td>2018</td>\n",
       "      <td>100</td>\n",
       "      <td>Drama</td>\n",
       "      <td>6.450093</td>\n",
       "      <td>111.070175</td>\n",
       "      <td>Shlok Sharma</td>\n",
       "      <td>Shashank Arora</td>\n",
       "      <td>Prince Daniel</td>\n",
       "      <td>Shatakshi Gupta</td>\n",
       "    </tr>\n",
       "  </tbody>\n",
       "</table>\n",
       "<p>1179 rows × 10 columns</p>\n",
       "</div>"
      ],
      "text/plain": [
       "                                     Name  Year  Duration  \\\n",
       "1      #Gadhvi (He thought he was Gandhi)  2019       109   \n",
       "2                             #Homecoming  2021        90   \n",
       "3                                 #Yaaram  2019       110   \n",
       "15                            102 Not Out  2018       102   \n",
       "20                             12 Bulbule  2021         0   \n",
       "...                                   ...   ...       ...   \n",
       "15426                                Zero  2018       164   \n",
       "15479                       Zindagi Tumse  2019       120   \n",
       "15480                   Zindagi Unlimited  2021       105   \n",
       "15484                               Zinga  2021         0   \n",
       "15488                                 Zoo  2018       100   \n",
       "\n",
       "                            Genre    Rating       Votes              Director  \\\n",
       "1                           Drama  6.489797  121.779116         Gaurav Bakshi   \n",
       "2                  Drama, Musical  6.917411  116.666667    Soumyajit Majumdar   \n",
       "3                 Comedy, Romance  6.489797  121.779116            Ovais Khan   \n",
       "15                  Comedy, Drama  6.450093  111.070175          Umesh Shukla   \n",
       "20          Comedy, Drama, Family  6.917411  116.666667            Jagat Joon   \n",
       "...                           ...       ...         ...                   ...   \n",
       "15426      Comedy, Drama, Romance  6.450093  111.070175         Aanand L. Rai   \n",
       "15479                      Family  6.489797  121.779116            Tariq Bhat   \n",
       "15480                         NaN  6.917411  116.666667       Vipin Agnihotri   \n",
       "15484  Adventure, Fantasy, Sci-Fi  6.917411  116.666667  Jaishankar Chigurula   \n",
       "15488                       Drama  6.450093  111.070175          Shlok Sharma   \n",
       "\n",
       "                Actor 1            Actor 2            Actor 3  \n",
       "1          Rasika Dugal     Vivek Ghamande      Arvind Jangid  \n",
       "2          Sayani Gupta  Plabita Borthakur         Roy Angana  \n",
       "3               Prateik         Ishita Raj    Siddhant Kapoor  \n",
       "15     Amitabh Bachchan       Rishi Kapoor         Vijay Raaz  \n",
       "20          Sonu Sonkar      Sunita Verman      Anubhav Dixit  \n",
       "...                 ...                ...                ...  \n",
       "15426    Shah Rukh Khan     Anushka Sharma       Katrina Kaif  \n",
       "15479     Sadhana Singh       Guddi Maruti        Rajesh Puri  \n",
       "15480       Amit Pandey      Kanchi Rohela   Kritika Sanghavi  \n",
       "15484           Sri Ram      Devan Sanjeev  Kasu Naveen Kumar  \n",
       "15488    Shashank Arora      Prince Daniel    Shatakshi Gupta  \n",
       "\n",
       "[1179 rows x 10 columns]"
      ]
     },
     "execution_count": 27,
     "metadata": {},
     "output_type": "execute_result"
    }
   ],
   "source": [
    "#Number of popular movies released each year.\n",
    "rat_bool=df['Rating']>=6\n",
    "vot_bool=df['Votes']>110\n",
    "pop_df=df[vot_bool & rat_bool]\n",
    "pop_df"
   ]
  },
  {
   "cell_type": "code",
   "execution_count": 28,
   "id": "89c3e22e",
   "metadata": {},
   "outputs": [],
   "source": [
    "#ML"
   ]
  },
  {
   "cell_type": "code",
   "execution_count": 29,
   "id": "d290513f",
   "metadata": {},
   "outputs": [
    {
     "data": {
      "text/plain": [
       "Name        0\n",
       "Year        0\n",
       "Duration    0\n",
       "Genre       0\n",
       "Rating      0\n",
       "Votes       0\n",
       "Director    0\n",
       "Actor 1     0\n",
       "Actor 2     0\n",
       "Actor 3     0\n",
       "dtype: int64"
      ]
     },
     "execution_count": 29,
     "metadata": {},
     "output_type": "execute_result"
    }
   ],
   "source": [
    "df.dropna(inplace=True)\n",
    "df.isnull().sum()"
   ]
  },
  {
   "cell_type": "code",
   "execution_count": 30,
   "id": "fbbbeea5",
   "metadata": {},
   "outputs": [
    {
     "data": {
      "image/png": "[encoded data removed]",
      "text/plain": [
       "<Figure size 720x432 with 4 Axes>"
      ]
     },
     "metadata": {
      "needs_background": "light"
     },
     "output_type": "display_data"
    }
   ],
   "source": [
    "#df.reset_index()\n",
    "fig,ax=plt.subplots(nrows=2,ncols=2,figsize=(10,6))\n",
    "\n",
    "sns.boxplot(data=df,y='Rating',ax=ax[0][0])\n",
    "ax[0][0].set_title('Ratings')\n",
    "ax[0][0].set_xlabel('Ratings')\n",
    "\n",
    "sns.boxplot(data=df,y='Duration',ax=ax[0][1])\n",
    "ax[0][1].set_title('Duration')\n",
    "ax[0][1].set_xlabel('Duration')\n",
    "\n",
    "sns.boxplot(data=df,y='Votes',ax=ax[1][0])\n",
    "ax[1][0].set_title('Votes')\n",
    "ax[1][0].set_xlabel('Votes')\n",
    "\n",
    "sns.boxplot(data=df,y='Year',ax=ax[1][1])\n",
    "ax[1][1].set_title('Years')\n",
    "ax[1][1].set_xlabel('Years')\n",
    "\n",
    "plt.tight_layout()\n",
    "\n",
    "plt.show()"
   ]
  },
  {
   "cell_type": "code",
   "execution_count": 31,
   "id": "2eb08505",
   "metadata": {},
   "outputs": [],
   "source": [
    "def out(df,col,dis):\n",
    "    q1=df[col].quantile(0.25)\n",
    "    q3=df[col].quantile(0.75)\n",
    "    iqr=q3-q1\n",
    "    lower=q1-(iqr*dis)\n",
    "    upper=q3+(iqr*dis)\n",
    "    return lower,upper"
   ]
  },
  {
   "cell_type": "code",
   "execution_count": 32,
   "id": "e6c004b1",
   "metadata": {},
   "outputs": [],
   "source": [
    "votes_low,votes_up=out(df,'Votes',1.5)"
   ]
  },
  {
   "cell_type": "code",
   "execution_count": 35,
   "id": "ad14bb81",
   "metadata": {},
   "outputs": [],
   "source": [
    "vote_out_count=(df['Votes'] > votes_up) | (df['Votes'] < votes_low)"
   ]
  },
  {
   "cell_type": "code",
   "execution_count": 36,
   "id": "9f084b87",
   "metadata": {},
   "outputs": [
    {
     "data": {
      "text/plain": [
       "12"
      ]
     },
     "execution_count": 36,
     "metadata": {},
     "output_type": "execute_result"
    }
   ],
   "source": [
    "df['Votes'][vote_out_count].count()"
   ]
  },
  {
   "cell_type": "code",
   "execution_count": 37,
   "id": "5be8d1dc",
   "metadata": {},
   "outputs": [],
   "source": [
    "df=df[(df['Votes']>votes_low) & (df['Votes']<votes_up)]"
   ]
  },
  {
   "cell_type": "code",
   "execution_count": 38,
   "id": "d9fdb36f",
   "metadata": {},
   "outputs": [],
   "source": [
    "year_low,year_upper=out(df,'Year',1.5)"
   ]
  },
  {
   "cell_type": "code",
   "execution_count": 39,
   "id": "4874dee3",
   "metadata": {},
   "outputs": [],
   "source": [
    "year_out_count=(df['Year']>year_upper) | (df['Year']<year_low)"
   ]
  },
  {
   "cell_type": "code",
   "execution_count": 42,
   "id": "6202a487",
   "metadata": {},
   "outputs": [
    {
     "data": {
      "text/plain": [
       "1"
      ]
     },
     "execution_count": 42,
     "metadata": {},
     "output_type": "execute_result"
    }
   ],
   "source": [
    "df['Year'][year_out_count].count()\n"
   ]
  },
  {
   "cell_type": "code",
   "execution_count": 43,
   "id": "79d60735",
   "metadata": {},
   "outputs": [
    {
     "data": {
      "text/plain": [
       "<AxesSubplot:>"
      ]
     },
     "execution_count": 43,
     "metadata": {},
     "output_type": "execute_result"
    },
    {
     "data": {
      "image/png": "[encoded data removed]",
      "text/plain": [
       "<Figure size 432x288 with 2 Axes>"
      ]
     },
     "metadata": {
      "needs_background": "light"
     },
     "output_type": "display_data"
    }
   ],
   "source": [
    "sns.heatmap(df.corr(),cmap='YlGnBu',annot=True)"
   ]
  },
  {
   "cell_type": "code",
   "execution_count": 44,
   "id": "4492fe25",
   "metadata": {},
   "outputs": [
    {
     "data": {
      "text/plain": [
       "(13071, 10)"
      ]
     },
     "execution_count": 44,
     "metadata": {},
     "output_type": "execute_result"
    }
   ],
   "source": [
    "df=df[(df['Year']>year_low) &(df['Year']<year_upper)]\n",
    "df.shape"
   ]
  },
  {
   "cell_type": "markdown",
   "id": "de2eafdb",
   "metadata": {},
   "source": [
    "## Applying Machine Learning"
   ]
  },
  {
   "cell_type": "code",
   "execution_count": 45,
   "id": "964031c4",
   "metadata": {},
   "outputs": [],
   "source": [
    "from sklearn.preprocessing import LabelEncoder\n",
    "LB=LabelEncoder()\n",
    "df['Name']=LB.fit_transform(df['Name'])\n",
    "df['Genre']=LB.fit_transform(df['Genre'])\n",
    "df['Director']=LB.fit_transform(df['Director'])\n",
    "df['Actor 1']=LB.fit_transform(df['Actor 1'])\n",
    "df['Actor 2']=LB.fit_transform(df['Actor 2'])\n",
    "df['Actor 3']=LB.fit_transform(df['Actor 3'])"
   ]
  },
  {
   "cell_type": "code",
   "execution_count": 46,
   "id": "e8411872",
   "metadata": {},
   "outputs": [],
   "source": [
    "from sklearn.linear_model import LinearRegression\n",
    "LR=LinearRegression()"
   ]
  },
  {
   "cell_type": "code",
   "execution_count": 47,
   "id": "955c555d",
   "metadata": {},
   "outputs": [],
   "source": [
    "from sklearn.model_selection import train_test_split\n",
    "x=df.drop('Rating',axis=1)\n",
    "y=df['Rating']"
   ]
  },
  {
   "cell_type": "code",
   "execution_count": 48,
   "id": "4c483c06",
   "metadata": {},
   "outputs": [],
   "source": [
    "train_x,test_x,train_y,test_y=train_test_split(x,y,test_size=0.3,random_state=42)"
   ]
  },
  {
   "cell_type": "code",
   "execution_count": 49,
   "id": "a75675fc",
   "metadata": {},
   "outputs": [],
   "source": [
    "LR.fit(train_x,train_y)\n",
    "pre_test=LR.predict(test_x)"
   ]
  },
  {
   "cell_type": "code",
   "execution_count": 50,
   "id": "b57a2b1a",
   "metadata": {},
   "outputs": [
    {
     "data": {
      "text/plain": [
       "array([5.82987542, 6.41382353, 5.67212604, ..., 6.36162053, 5.60806166,\n",
       "       5.64270887])"
      ]
     },
     "execution_count": 50,
     "metadata": {},
     "output_type": "execute_result"
    }
   ],
   "source": [
    "pre_test"
   ]
  },
  {
   "cell_type": "code",
   "execution_count": 51,
   "id": "02607317",
   "metadata": {},
   "outputs": [],
   "source": [
    "pre_train=LR.predict(train_x)"
   ]
  },
  {
   "cell_type": "code",
   "execution_count": 52,
   "id": "973de0b6",
   "metadata": {},
   "outputs": [
    {
     "name": "stdout",
     "output_type": "stream",
     "text": [
      "print r2_score 0.2826898215144644\n",
      "print r2_score 0.2856205571730318\n"
     ]
    }
   ],
   "source": [
    "from sklearn.metrics import r2_score\n",
    "score_test=r2_score(test_y,pre_test)\n",
    "score_train=r2_score(train_y,pre_train)\n",
    "print(\"print r2_score\",score_test)\n",
    "print('print r2_score',score_train)"
   ]
  },
  {
   "cell_type": "code",
   "execution_count": 53,
   "id": "031c26f0",
   "metadata": {},
   "outputs": [
    {
     "name": "stdout",
     "output_type": "stream",
     "text": [
      "print r2_score 0.28268980669528654\n",
      "print r2_score 0.2856205571679612\n",
      "0.19866241460600648\n"
     ]
    }
   ],
   "source": [
    "from sklearn.linear_model import Ridge\n",
    "RL=Ridge(alpha=10.0)\n",
    "RL.fit(train_x,train_y)\n",
    "RL_pre_test=RL.predict(test_x)\n",
    "RL_pre_train=RL.predict(train_x)\n",
    "r2_RL_test=r2_score(test_y,RL_pre_test)\n",
    "r2_RL_train=r2_score(train_y,RL_pre_train)\n",
    "print(\"print r2_score\",r2_RL_test)\n",
    "print('print r2_score',r2_RL_train)\n",
    "from sklearn.metrics import mean_squared_error\n",
    "mse = mean_squared_error(test_y, RL_pre_test)\n",
    "print(mse)"
   ]
  },
  {
   "cell_type": "code",
   "execution_count": 54,
   "id": "c5410e30",
   "metadata": {},
   "outputs": [
    {
     "name": "stdout",
     "output_type": "stream",
     "text": [
      "{'alpha': 10.0} Ridge(alpha=10.0)\n"
     ]
    }
   ],
   "source": [
    "from sklearn.model_selection import GridSearchCV\n",
    "\n",
    "param={'alpha':[0.01, 0.1, 1.0, 10.0]}\n",
    "grid=GridSearchCV(estimator=RL,param_grid=param,cv=5)\n",
    "grid.fit(train_x,train_y)\n",
    "\n",
    "print(grid.best_params_,grid.best_estimator_)"
   ]
  },
  {
   "cell_type": "code",
   "execution_count": 55,
   "id": "c2d71aa9",
   "metadata": {},
   "outputs": [
    {
     "name": "stdout",
     "output_type": "stream",
     "text": [
      "Accuracy :  28.34793737848799\n"
     ]
    }
   ],
   "source": [
    "from sklearn.model_selection import KFold\n",
    "from sklearn.model_selection import cross_val_score\n",
    "kf=KFold(n_splits=10,random_state=42,shuffle=True)\n",
    "cv=cross_val_score(RL,x,y,cv=kf,n_jobs=-1)\n",
    "print('Accuracy : ',cv.mean()*100)"
   ]
  },
  {
   "cell_type": "code",
   "execution_count": null,
   "id": "d79ebbc0",
   "metadata": {},
   "outputs": [],
   "source": []
  }
 ],
 "metadata": {
  "kernelspec": {
   "display_name": "Python 3 (ipykernel)",
   "language": "python",
   "name": "python3"
  },
  "language_info": {
   "codemirror_mode": {
    "name": "ipython",
    "version": 3
   },
   "file_extension": ".py",
   "mimetype": "text/x-python",
   "name": "python",
   "nbconvert_exporter": "python",
   "pygments_lexer": "ipython3",
   "version": "3.9.12"
  }
 },
 "nbformat": 4,
 "nbformat_minor": 5
}
